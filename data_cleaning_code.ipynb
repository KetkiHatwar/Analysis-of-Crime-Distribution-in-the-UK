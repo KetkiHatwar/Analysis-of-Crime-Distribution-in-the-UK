{
 "cells": [
  {
   "cell_type": "markdown",
   "id": "30cc5d0a",
   "metadata": {},
   "source": [
    "## Here is the sample to clean the raw csv file. All the files in dataset are cleaned using this code. Make sure to provide the file path for the dataset to be cleaned and the file path to which the clean dataset would be saved. "
   ]
  },
  {
   "cell_type": "code",
   "execution_count": null,
   "id": "7a5a3efb",
   "metadata": {},
   "outputs": [],
   "source": [
    "import pandas as pd\n",
    "# Replace '' with the path to your actual file\n",
    "data = pd.read_csv('')\n",
    "\n",
    "# Remove 'context' is the column name\n",
    "data = data.drop('Context', axis=1)  \n",
    "\n",
    "data= data.drop_duplicates()\n",
    "# clean_data = data.drop_duplicates(keep='first')\n",
    "\n",
    "# Drop rows with missing values in the DataFrame 'data'\n",
    "data = data.dropna()\n",
    "data.to_csv('', index=False)\n",
    "\n",
    "print(data)"
   ]
  },
  {
   "cell_type": "code",
   "execution_count": null,
   "id": "62fbaf07",
   "metadata": {},
   "outputs": [],
   "source": []
  }
 ],
 "metadata": {
  "kernelspec": {
   "display_name": "Python 3 (ipykernel)",
   "language": "python",
   "name": "python3"
  },
  "language_info": {
   "codemirror_mode": {
    "name": "ipython",
    "version": 3
   },
   "file_extension": ".py",
   "mimetype": "text/x-python",
   "name": "python",
   "nbconvert_exporter": "python",
   "pygments_lexer": "ipython3",
   "version": "3.11.5"
  }
 },
 "nbformat": 4,
 "nbformat_minor": 5
}
